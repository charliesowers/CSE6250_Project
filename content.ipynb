{
 "cells": [
  {
   "cell_type": "code",
   "execution_count": 2,
   "id": "5d66a100-d0db-4002-a0ed-4b9a79247aa5",
   "metadata": {},
   "outputs": [],
   "source": [
    "import os\n",
    "import numpy as np\n",
    "import pandas as pd\n",
    "import pickle\n",
    "from scipy import sparse\n",
    "import torch\n",
    "from torch.utils.data import TensorDataset, Dataset, DataLoader\n",
    "import torch.nn as nn\n",
    "import torch.optim as optim\n",
    "from scipy.special import softmax\n",
    "from plots import plot_learning_curves, plot_confusion_matrix\n",
    "from utils import train_RNN, evaluate, VisitSequenceWithLabelDataset, visit_collate_fn\n",
    "\n",
    "from sklearn.metrics import precision_recall_fscore_support, roc_auc_score, accuracy_score, precision_recall_curve\n",
    "from sklearn.cluster import MiniBatchKMeans\n",
    "from sklearn.metrics import average_precision_score as pr_auc\n",
    "from model import RNN, Content, RecognitionNetwork\n",
    "from create_dataset import get_seqs_labels, calculate_num_features\n",
    "\n",
    "%load_ext autoreload\n",
    "%autoreload 2"
   ]
  },
  {
   "cell_type": "markdown",
   "id": "eb1a7508-35a7-4fbd-94ac-bbac6b58fff7",
   "metadata": {},
   "source": [
    "# Get Data"
   ]
  },
  {
   "cell_type": "code",
   "execution_count": 3,
   "id": "bc8f951d-ab02-4725-a913-14f84ab3bd88",
   "metadata": {},
   "outputs": [],
   "source": [
    "file = open('data/train.pkl', 'rb')\n",
    "train_df = pickle.load(file)\n",
    "file = open('data/valid.pkl', 'rb')\n",
    "valid_df = pickle.load(file)\n",
    "file = open('data/test.pkl', 'rb')\n",
    "test_df = pickle.load(file)"
   ]
  },
  {
   "cell_type": "markdown",
   "id": "b1ad6922-e7f4-4003-b52e-db2bb9e096f1",
   "metadata": {},
   "source": [
    "# Create sequence and labels"
   ]
  },
  {
   "cell_type": "code",
   "execution_count": 4,
   "id": "59b8052c-c5fb-4409-90a0-420c126c7249",
   "metadata": {},
   "outputs": [],
   "source": [
    "train_seqs, train_labels = get_seqs_labels(train_df)\n",
    "val_seqs, val_labels = get_seqs_labels(valid_df)\n",
    "test_seqs, test_labels = get_seqs_labels(test_df)\n",
    "num_features = calculate_num_features(train_seqs)"
   ]
  },
  {
   "cell_type": "markdown",
   "id": "8b827540-a109-4ea4-801b-ab80b57cf17d",
   "metadata": {},
   "source": [
    "# Initialize model parameters"
   ]
  },
  {
   "cell_type": "code",
   "execution_count": 5,
   "id": "f7365978-e4f8-4ec4-aa06-5328b82008c5",
   "metadata": {},
   "outputs": [],
   "source": [
    "NUM_EPOCHS = 3\n",
    "BATCH_SIZE = 64\n",
    "USE_CUDA = True  # Set 'True' if you want to use GPU\n",
    "NUM_WORKERS = 0\n",
    "output_path = 'model_object/'\n",
    "\n",
    "device = torch.device(\"cuda\" if torch.cuda.is_available() and USE_CUDA else \"cpu\")\n",
    "torch.manual_seed(1)\n",
    "if device.type == \"cuda\":\n",
    "    torch.backends.cudnn.deterministic = True\n",
    "    torch.backends.cudnn.benchmark = False"
   ]
  },
  {
   "cell_type": "markdown",
   "id": "92ccba6a-1868-4362-83e5-87d90cd82f40",
   "metadata": {},
   "source": [
    "# create DataLoader"
   ]
  },
  {
   "cell_type": "code",
   "execution_count": 6,
   "id": "3fbe611c-ba7c-4987-9d5a-0ebe0b76fce9",
   "metadata": {},
   "outputs": [],
   "source": [
    "train_dataset = VisitSequenceWithLabelDataset(train_seqs, train_labels, num_features)\n",
    "valid_dataset = VisitSequenceWithLabelDataset(val_seqs, val_labels, num_features)\n",
    "test_dataset = VisitSequenceWithLabelDataset(test_seqs, test_labels, num_features)\n",
    "train_loader = DataLoader(dataset=train_dataset, batch_size=BATCH_SIZE, shuffle=True, collate_fn=visit_collate_fn, num_workers=NUM_WORKERS)\n",
    "valid_loader = DataLoader(dataset=valid_dataset, batch_size=BATCH_SIZE, shuffle=False, collate_fn=visit_collate_fn, num_workers=NUM_WORKERS)\n",
    "test_loader = DataLoader(dataset=test_dataset, batch_size=BATCH_SIZE, shuffle=True, collate_fn=visit_collate_fn, num_workers=NUM_WORKERS)"
   ]
  },
  {
   "cell_type": "markdown",
   "id": "6abfffa9-e4c7-4a01-bf54-6dec75352439",
   "metadata": {},
   "source": [
    "# Model training with 3 epochs"
   ]
  },
  {
   "cell_type": "code",
   "execution_count": 7,
   "id": "5de40923-b4b4-46c7-b766-e45649712da6",
   "metadata": {},
   "outputs": [
    {
     "name": "stderr",
     "output_type": "stream",
     "text": [
      "/Users/jasonzeng/Documents/OMSCS/cse6250/project/CSE6250_Project/utils.py:204: UserWarning: Creating a tensor from a list of numpy.ndarrays is extremely slow. Please consider converting the list to a single numpy.ndarray with numpy.array() before converting to a tensor. (Triggered internally at  ../torch/csrc/utils/tensor_new.cpp:201.)\n",
      "  seqs_tensor = torch.FloatTensor(seqs)\n"
     ]
    },
    {
     "name": "stdout",
     "output_type": "stream",
     "text": [
      "Epoch: [0][0/167]\tTime 3.117 (3.117)\tData 0.507 (0.507)\tLoss 0.7006 (0.7006)\tAccuracy 39.062 (39.062)\n",
      "Epoch: [0][10/167]\tTime 2.294 (2.968)\tData 0.468 (0.520)\tLoss 0.7019 (0.6953)\tAccuracy 23.438 (48.864)\n",
      "Epoch: [0][20/167]\tTime 2.061 (2.896)\tData 0.329 (0.512)\tLoss 0.7409 (0.6974)\tAccuracy 34.375 (49.702)\n",
      "Epoch: [0][30/167]\tTime 4.200 (2.953)\tData 0.648 (0.529)\tLoss 0.5997 (0.6974)\tAccuracy 81.250 (50.353)\n",
      "Epoch: [0][40/167]\tTime 2.573 (2.785)\tData 0.392 (0.504)\tLoss 0.7488 (0.6973)\tAccuracy 32.812 (51.067)\n",
      "Epoch: [0][50/167]\tTime 2.898 (2.770)\tData 0.431 (0.500)\tLoss 0.7430 (0.7094)\tAccuracy 23.438 (47.825)\n",
      "Epoch: [0][60/167]\tTime 2.734 (2.768)\tData 0.414 (0.499)\tLoss 0.6992 (0.7077)\tAccuracy 29.688 (46.670)\n",
      "Epoch: [0][70/167]\tTime 2.325 (2.781)\tData 0.485 (0.499)\tLoss 0.6952 (0.7054)\tAccuracy 32.812 (46.985)\n",
      "Epoch: [0][80/167]\tTime 3.491 (2.816)\tData 0.607 (0.503)\tLoss 0.6869 (0.7046)\tAccuracy 73.438 (46.586)\n",
      "Epoch: [0][90/167]\tTime 2.178 (2.775)\tData 0.423 (0.500)\tLoss 0.7237 (0.7030)\tAccuracy 21.875 (47.304)\n",
      "Epoch: [0][100/167]\tTime 2.460 (2.757)\tData 0.476 (0.496)\tLoss 0.6687 (0.7022)\tAccuracy 71.875 (47.277)\n",
      "Epoch: [0][110/167]\tTime 3.755 (2.753)\tData 0.559 (0.497)\tLoss 0.7033 (0.7016)\tAccuracy 26.562 (47.396)\n",
      "Epoch: [0][120/167]\tTime 2.295 (2.705)\tData 0.443 (0.491)\tLoss 0.7116 (0.7007)\tAccuracy 28.125 (47.676)\n",
      "Epoch: [0][130/167]\tTime 1.974 (2.681)\tData 0.364 (0.487)\tLoss 0.6905 (0.6998)\tAccuracy 65.625 (48.819)\n",
      "Epoch: [0][140/167]\tTime 3.265 (2.698)\tData 0.488 (0.489)\tLoss 0.6792 (0.6994)\tAccuracy 76.562 (48.958)\n",
      "Epoch: [0][150/167]\tTime 2.688 (2.717)\tData 0.491 (0.491)\tLoss 0.6895 (0.6990)\tAccuracy 73.438 (49.493)\n",
      "Epoch: [0][160/167]\tTime 2.875 (2.730)\tData 0.637 (0.493)\tLoss 0.6946 (0.6987)\tAccuracy 34.375 (49.466)\n",
      "Test: [0/43]\tTime 0.607 (0.607)\tLoss 0.7321 (0.7321)\tAccuracy 31.250 (31.250)\n",
      "Test: [10/43]\tTime 0.565 (0.544)\tLoss 0.6773 (0.6966)\tAccuracy 68.750 (50.000)\n",
      "Test: [20/43]\tTime 0.417 (0.537)\tLoss 0.7021 (0.6963)\tAccuracy 29.688 (48.512)\n",
      "Test: [30/43]\tTime 0.588 (0.537)\tLoss 0.7135 (0.6973)\tAccuracy 26.562 (47.933)\n",
      "Test: [40/43]\tTime 0.637 (0.535)\tLoss 0.7156 (0.6949)\tAccuracy 26.562 (50.495)\n",
      "Epoch: [1][0/167]\tTime 2.277 (2.277)\tData 0.386 (0.386)\tLoss 0.7115 (0.7115)\tAccuracy 29.688 (29.688)\n",
      "Epoch: [1][10/167]\tTime 2.768 (2.843)\tData 0.420 (0.485)\tLoss 0.6949 (0.7018)\tAccuracy 26.562 (37.358)\n",
      "Epoch: [1][20/167]\tTime 2.351 (2.727)\tData 0.523 (0.492)\tLoss 0.7023 (0.7010)\tAccuracy 34.375 (38.616)\n",
      "Epoch: [1][30/167]\tTime 1.775 (2.712)\tData 0.393 (0.498)\tLoss 0.6797 (0.6972)\tAccuracy 68.750 (44.556)\n",
      "Epoch: [1][40/167]\tTime 2.118 (2.756)\tData 0.445 (0.502)\tLoss 0.6830 (0.6963)\tAccuracy 71.875 (45.655)\n",
      "Epoch: [1][50/167]\tTime 1.927 (2.696)\tData 0.391 (0.490)\tLoss 0.6959 (0.6956)\tAccuracy 32.812 (46.293)\n",
      "Epoch: [1][60/167]\tTime 2.493 (2.679)\tData 0.517 (0.490)\tLoss 0.6925 (0.6949)\tAccuracy 62.500 (45.953)\n",
      "Epoch: [1][70/167]\tTime 2.145 (2.617)\tData 0.510 (0.484)\tLoss 0.7187 (0.6951)\tAccuracy 26.562 (45.290)\n",
      "Epoch: [1][80/167]\tTime 3.445 (2.666)\tData 0.524 (0.489)\tLoss 0.7029 (0.6951)\tAccuracy 26.562 (44.599)\n",
      "Epoch: [1][90/167]\tTime 2.506 (2.663)\tData 0.482 (0.487)\tLoss 0.6946 (0.6939)\tAccuracy 37.500 (46.446)\n",
      "Epoch: [1][100/167]\tTime 3.433 (2.663)\tData 0.506 (0.485)\tLoss 0.6872 (0.6933)\tAccuracy 68.750 (47.277)\n",
      "Epoch: [1][110/167]\tTime 2.130 (2.645)\tData 0.413 (0.484)\tLoss 0.7117 (0.6933)\tAccuracy 45.312 (47.128)\n",
      "Epoch: [1][120/167]\tTime 3.819 (2.621)\tData 0.625 (0.480)\tLoss 0.7016 (0.6946)\tAccuracy 23.438 (46.358)\n",
      "Epoch: [1][130/167]\tTime 1.974 (2.613)\tData 0.473 (0.479)\tLoss 0.7120 (0.6948)\tAccuracy 31.250 (46.028)\n",
      "Epoch: [1][140/167]\tTime 2.668 (2.611)\tData 0.391 (0.479)\tLoss 0.6937 (0.6949)\tAccuracy 34.375 (46.066)\n",
      "Epoch: [1][150/167]\tTime 2.417 (2.624)\tData 0.493 (0.479)\tLoss 0.7219 (0.6953)\tAccuracy 23.438 (45.530)\n",
      "Epoch: [1][160/167]\tTime 3.066 (2.660)\tData 0.581 (0.483)\tLoss 0.6861 (0.6954)\tAccuracy 73.438 (45.672)\n",
      "Test: [0/43]\tTime 0.590 (0.590)\tLoss 0.6848 (0.6848)\tAccuracy 68.750 (68.750)\n",
      "Test: [10/43]\tTime 0.555 (0.545)\tLoss 0.6870 (0.6983)\tAccuracy 68.750 (44.318)\n",
      "Test: [20/43]\tTime 0.417 (0.537)\tLoss 0.6664 (0.6919)\tAccuracy 70.312 (51.637)\n",
      "Test: [30/43]\tTime 0.591 (0.540)\tLoss 0.7141 (0.6951)\tAccuracy 26.562 (48.286)\n",
      "Test: [40/43]\tTime 0.635 (0.537)\tLoss 0.6962 (0.6914)\tAccuracy 26.562 (52.134)\n",
      "Epoch: [2][0/167]\tTime 1.668 (1.668)\tData 0.339 (0.339)\tLoss 0.7132 (0.7132)\tAccuracy 31.250 (31.250)\n",
      "Epoch: [2][10/167]\tTime 4.050 (2.629)\tData 0.636 (0.485)\tLoss 0.7054 (0.6948)\tAccuracy 28.125 (48.438)\n",
      "Epoch: [2][20/167]\tTime 2.916 (2.789)\tData 0.614 (0.529)\tLoss 0.6581 (0.6904)\tAccuracy 76.562 (54.464)\n",
      "Epoch: [2][30/167]\tTime 2.235 (2.747)\tData 0.471 (0.531)\tLoss 0.6913 (0.6997)\tAccuracy 65.625 (53.730)\n",
      "Epoch: [2][40/167]\tTime 2.600 (2.771)\tData 0.522 (0.528)\tLoss 0.7023 (0.6997)\tAccuracy 28.125 (50.305)\n",
      "Epoch: [2][50/167]\tTime 3.321 (2.837)\tData 0.467 (0.528)\tLoss 0.6460 (0.6983)\tAccuracy 85.938 (50.705)\n",
      "Epoch: [2][60/167]\tTime 2.084 (2.889)\tData 0.399 (0.528)\tLoss 0.7092 (0.6977)\tAccuracy 25.000 (50.359)\n",
      "Epoch: [2][70/167]\tTime 1.993 (2.913)\tData 0.425 (0.528)\tLoss 0.6911 (0.6968)\tAccuracy 73.438 (50.946)\n",
      "Epoch: [2][80/167]\tTime 2.242 (2.824)\tData 0.453 (0.515)\tLoss 0.6926 (0.6961)\tAccuracy 67.188 (51.042)\n",
      "Epoch: [2][90/167]\tTime 2.535 (2.804)\tData 0.491 (0.515)\tLoss 0.6803 (0.6953)\tAccuracy 78.125 (51.391)\n",
      "Epoch: [2][100/167]\tTime 3.090 (2.790)\tData 0.457 (0.511)\tLoss 0.7092 (0.6952)\tAccuracy 25.000 (51.593)\n",
      "Epoch: [2][110/167]\tTime 2.665 (2.791)\tData 0.518 (0.514)\tLoss 0.6982 (0.6946)\tAccuracy 43.750 (52.534)\n",
      "Epoch: [2][120/167]\tTime 2.368 (2.783)\tData 0.453 (0.513)\tLoss 0.7018 (0.6945)\tAccuracy 39.062 (51.937)\n",
      "Epoch: [2][130/167]\tTime 3.218 (2.767)\tData 0.533 (0.509)\tLoss 0.7190 (0.6944)\tAccuracy 26.562 (52.314)\n",
      "Epoch: [2][140/167]\tTime 3.079 (2.788)\tData 0.596 (0.512)\tLoss 0.6839 (0.6949)\tAccuracy 75.000 (51.463)\n",
      "Epoch: [2][150/167]\tTime 2.230 (2.772)\tData 0.459 (0.512)\tLoss 0.7100 (0.6960)\tAccuracy 28.125 (50.352)\n",
      "Epoch: [2][160/167]\tTime 2.892 (4.685)\tData 0.387 (0.508)\tLoss 0.6898 (0.6961)\tAccuracy 59.375 (50.291)\n",
      "Test: [0/43]\tTime 0.729 (0.729)\tLoss 0.6732 (0.6732)\tAccuracy 68.750 (68.750)\n",
      "Test: [10/43]\tTime 0.575 (0.572)\tLoss 0.7035 (0.6954)\tAccuracy 31.250 (50.852)\n",
      "Test: [20/43]\tTime 7.454 (1.484)\tLoss 0.6870 (0.6927)\tAccuracy 70.312 (51.042)\n",
      "Test: [30/43]\tTime 0.774 (15.008)\tLoss 0.6987 (0.6925)\tAccuracy 26.562 (51.109)\n",
      "Test: [40/43]\tTime 0.688 (11.492)\tLoss 0.6653 (0.6949)\tAccuracy 73.438 (49.390)\n"
     ]
    },
    {
     "data": {
      "image/png": "[encoded data removed]",
      "text/plain": [
       "<Figure size 432x288 with 1 Axes>"
      ]
     },
     "metadata": {
      "needs_background": "light"
     },
     "output_type": "display_data"
    },
    {
     "data": {
      "image/png": "[encoded data removed]",
      "text/plain": [
       "<Figure size 432x288 with 1 Axes>"
      ]
     },
     "metadata": {
      "needs_background": "light"
     },
     "output_type": "display_data"
    }
   ],
   "source": [
    "hidden_size = 200\n",
    "num_layers = 2\n",
    "num_classes= 2\n",
    "embedding_dim = 100\n",
    "num_topic = 50\n",
    "bidirectional=True\n",
    "\n",
    "model = Content(num_features, hidden_size, num_layers, num_classes, embedding_dim, num_topic, bidirectional)\n",
    "criterion = nn.CrossEntropyLoss()\n",
    "optimizer = optim.Adam(model.parameters())\n",
    "\n",
    "model.to(device)\n",
    "criterion.to(device)\n",
    "\n",
    "best_val_acc = 0.0\n",
    "train_losses, train_accuracies, train_aucs = [], [], []\n",
    "valid_losses, valid_accuracies, valid_aucs = [], [], []\n",
    "for epoch in range(NUM_EPOCHS):\n",
    "    train_loss, train_accuracy, train_auc = train_RNN(model, device, train_loader, criterion, optimizer, epoch)\n",
    "    valid_loss, valid_accuracy, valid_auc, valid_results = evaluate(model, device, valid_loader, criterion)\n",
    "\n",
    "    train_losses.append(train_loss)\n",
    "    valid_losses.append(valid_loss)\n",
    "\n",
    "    train_accuracies.append(train_accuracy)\n",
    "    valid_accuracies.append(valid_accuracy)\n",
    "    \n",
    "    train_aucs.append(train_auc)\n",
    "    valid_aucs.append(valid_auc)\n",
    "\n",
    "    is_best = valid_accuracy > best_val_acc  # let's keep the model that has the best accuracy, but you can also use another metric.\n",
    "    if is_best:\n",
    "        \n",
    "        best_val_acc = valid_accuracy\n",
    "        torch.save(model, os.path.join(output_path, \"content_3_epochs.pth\"), _use_new_zipfile_serialization=False)\n",
    "plot_learning_curves(train_losses, valid_losses, train_accuracies, valid_accuracies, 'figures', 'content_3_epochs')"
   ]
  },
  {
   "cell_type": "code",
   "execution_count": 8,
   "id": "2d82cf87-9043-4ff9-85c5-d829b3aee512",
   "metadata": {},
   "outputs": [
    {
     "data": {
      "text/plain": [
       "[49.07912046392706, 45.50836309107863, 50.41345611583736]"
      ]
     },
     "execution_count": 8,
     "metadata": {},
     "output_type": "execute_result"
    }
   ],
   "source": [
    "train_accuracies"
   ]
  },
  {
   "cell_type": "code",
   "execution_count": 9,
   "id": "c70b733f-9481-43c7-9934-999fcf4873c9",
   "metadata": {},
   "outputs": [
    {
     "data": {
      "text/plain": [
       "[0.4990935214385501, 0.5000550948820008, 0.50050963321375]"
      ]
     },
     "execution_count": 9,
     "metadata": {},
     "output_type": "execute_result"
    }
   ],
   "source": [
    "train_aucs"
   ]
  },
  {
   "cell_type": "code",
   "execution_count": 10,
   "id": "09e61119-cf06-4d18-aa29-0c31840d79f6",
   "metadata": {},
   "outputs": [
    {
     "data": {
      "text/plain": [
       "([51.57163742690059, 52.046783625730995, 48.3187134502924],\n",
       " [0.4994683678894205, 0.5004873294346979, 0.5018746138783073])"
      ]
     },
     "execution_count": 10,
     "metadata": {},
     "output_type": "execute_result"
    }
   ],
   "source": [
    "valid_accuracies, valid_aucs"
   ]
  },
  {
   "cell_type": "code",
   "execution_count": 11,
   "id": "6de92b83-c688-4112-847e-e13ca6703c14",
   "metadata": {},
   "outputs": [
    {
     "name": "stdout",
     "output_type": "stream",
     "text": [
      "Test: [0/42]\tTime 0.849 (0.849)\tLoss 0.6829 (0.6829)\tAccuracy 73.438 (73.438)\n",
      "Test: [10/42]\tTime 0.545 (0.755)\tLoss 0.6823 (0.6940)\tAccuracy 81.250 (43.324)\n",
      "Test: [20/42]\tTime 1.086 (0.816)\tLoss 0.6836 (0.6944)\tAccuracy 70.312 (44.048)\n",
      "Test: [30/42]\tTime 0.832 (0.807)\tLoss 0.7042 (0.6957)\tAccuracy 31.250 (43.498)\n",
      "Test: [40/42]\tTime 0.796 (0.814)\tLoss 0.7060 (0.6955)\tAccuracy 29.688 (45.465)\n"
     ]
    }
   ],
   "source": [
    "best_model = torch.load(os.path.join(output_path, \"content_3_epochs.pth\"))\n",
    "\n",
    "test_loss, test_accuracy, test_auc, test_results = evaluate(best_model, device, test_loader, criterion)"
   ]
  },
  {
   "cell_type": "code",
   "execution_count": 12,
   "id": "5ce7c3fe-9ee3-4a03-833b-ce9b2ff2959b",
   "metadata": {},
   "outputs": [
    {
     "data": {
      "text/plain": [
       "(45.07518796132023, 0.5021421589619697)"
      ]
     },
     "execution_count": 12,
     "metadata": {},
     "output_type": "execute_result"
    }
   ],
   "source": [
    "test_accuracy, test_auc"
   ]
  },
  {
   "cell_type": "markdown",
   "id": "6032ea8c-769e-47ee-94f3-c3751bd3a7bd",
   "metadata": {},
   "source": [
    "# Model training with 10 epochs"
   ]
  },
  {
   "cell_type": "code",
   "execution_count": 13,
   "id": "a47211e3-f972-4e0d-9577-8fac2cb2497c",
   "metadata": {},
   "outputs": [],
   "source": [
    "NUM_EPOCHS = 10\n",
    "BATCH_SIZE = 64\n",
    "USE_CUDA = True  # Set 'True' if you want to use GPU\n",
    "NUM_WORKERS = 0\n",
    "output_path = 'model_object/'\n",
    "\n",
    "device = torch.device(\"cuda\" if torch.cuda.is_available() and USE_CUDA else \"cpu\")\n",
    "torch.manual_seed(1)\n",
    "if device.type == \"cuda\":\n",
    "    torch.backends.cudnn.deterministic = True\n",
    "    torch.backends.cudnn.benchmark = False"
   ]
  },
  {
   "cell_type": "code",
   "execution_count": 14,
   "id": "318cee49-fba9-41df-91c5-5dba05e33930",
   "metadata": {},
   "outputs": [
    {
     "name": "stdout",
     "output_type": "stream",
     "text": [
      "Epoch: [0][0/167]\tTime 3.106 (3.106)\tData 0.519 (0.519)\tLoss 0.7006 (0.7006)\tAccuracy 39.062 (39.062)\n",
      "Epoch: [0][10/167]\tTime 2.289 (3.002)\tData 0.511 (0.550)\tLoss 0.7019 (0.6953)\tAccuracy 23.438 (48.864)\n",
      "Epoch: [0][20/167]\tTime 1.874 (2.902)\tData 0.323 (0.540)\tLoss 0.7409 (0.6974)\tAccuracy 34.375 (49.702)\n",
      "Epoch: [0][30/167]\tTime 4.110 (2.960)\tData 0.681 (0.560)\tLoss 0.5997 (0.6974)\tAccuracy 81.250 (50.353)\n",
      "Epoch: [0][40/167]\tTime 2.746 (2.798)\tData 0.479 (0.538)\tLoss 0.7488 (0.6973)\tAccuracy 32.812 (51.067)\n",
      "Epoch: [0][50/167]\tTime 2.923 (2.791)\tData 0.476 (0.533)\tLoss 0.7430 (0.7094)\tAccuracy 23.438 (47.825)\n",
      "Epoch: [0][60/167]\tTime 2.935 (2.846)\tData 0.466 (0.539)\tLoss 0.6992 (0.7077)\tAccuracy 29.688 (46.670)\n",
      "Epoch: [0][70/167]\tTime 2.587 (2.875)\tData 0.527 (0.539)\tLoss 0.6952 (0.7054)\tAccuracy 32.812 (46.985)\n",
      "Epoch: [0][80/167]\tTime 3.762 (2.922)\tData 0.715 (0.546)\tLoss 0.6869 (0.7046)\tAccuracy 73.438 (46.586)\n",
      "Epoch: [0][90/167]\tTime 2.238 (2.883)\tData 0.477 (0.544)\tLoss 0.7237 (0.7030)\tAccuracy 21.875 (47.304)\n",
      "Epoch: [0][100/167]\tTime 2.677 (2.872)\tData 0.579 (0.542)\tLoss 0.6687 (0.7022)\tAccuracy 71.875 (47.277)\n",
      "Epoch: [0][110/167]\tTime 4.164 (2.878)\tData 0.658 (0.544)\tLoss 0.7033 (0.7016)\tAccuracy 26.562 (47.396)\n",
      "Epoch: [0][120/167]\tTime 2.458 (2.830)\tData 0.485 (0.537)\tLoss 0.7116 (0.7007)\tAccuracy 28.125 (47.676)\n",
      "Epoch: [0][130/167]\tTime 2.062 (2.804)\tData 0.388 (0.533)\tLoss 0.6905 (0.6998)\tAccuracy 65.625 (48.819)\n",
      "Epoch: [0][140/167]\tTime 3.224 (2.814)\tData 0.551 (0.533)\tLoss 0.6792 (0.6994)\tAccuracy 76.562 (48.958)\n",
      "Epoch: [0][150/167]\tTime 2.800 (2.830)\tData 0.537 (0.535)\tLoss 0.6895 (0.6990)\tAccuracy 73.438 (49.493)\n",
      "Epoch: [0][160/167]\tTime 3.159 (2.843)\tData 0.735 (0.536)\tLoss 0.6946 (0.6987)\tAccuracy 34.375 (49.466)\n",
      "Test: [0/43]\tTime 0.652 (0.652)\tLoss 0.7321 (0.7321)\tAccuracy 31.250 (31.250)\n",
      "Test: [10/43]\tTime 0.590 (0.577)\tLoss 0.6773 (0.6966)\tAccuracy 68.750 (50.000)\n",
      "Test: [20/43]\tTime 0.448 (0.573)\tLoss 0.7021 (0.6963)\tAccuracy 29.688 (48.512)\n",
      "Test: [30/43]\tTime 0.645 (0.579)\tLoss 0.7135 (0.6973)\tAccuracy 26.562 (47.933)\n",
      "Test: [40/43]\tTime 0.688 (0.581)\tLoss 0.7156 (0.6949)\tAccuracy 26.562 (50.495)\n",
      "Epoch: [1][0/167]\tTime 2.515 (2.515)\tData 0.431 (0.431)\tLoss 0.7115 (0.7115)\tAccuracy 29.688 (29.688)\n",
      "Epoch: [1][10/167]\tTime 3.039 (3.143)\tData 0.450 (0.529)\tLoss 0.6949 (0.7018)\tAccuracy 26.562 (37.358)\n",
      "Epoch: [1][20/167]\tTime 2.668 (3.048)\tData 0.573 (0.545)\tLoss 0.7023 (0.7010)\tAccuracy 34.375 (38.616)\n",
      "Epoch: [1][30/167]\tTime 2.261 (3.023)\tData 0.423 (0.549)\tLoss 0.6797 (0.6972)\tAccuracy 68.750 (44.556)\n",
      "Epoch: [1][40/167]\tTime 2.332 (3.073)\tData 0.487 (0.556)\tLoss 0.6830 (0.6963)\tAccuracy 71.875 (45.655)\n",
      "Epoch: [1][50/167]\tTime 2.116 (2.998)\tData 0.433 (0.545)\tLoss 0.6959 (0.6956)\tAccuracy 32.812 (46.293)\n",
      "Epoch: [1][60/167]\tTime 2.814 (2.976)\tData 0.570 (0.546)\tLoss 0.6925 (0.6949)\tAccuracy 62.500 (45.953)\n",
      "Epoch: [1][70/167]\tTime 2.590 (2.912)\tData 0.593 (0.540)\tLoss 0.7187 (0.6951)\tAccuracy 26.562 (45.290)\n",
      "Epoch: [1][80/167]\tTime 3.867 (2.968)\tData 0.592 (0.546)\tLoss 0.7029 (0.6951)\tAccuracy 26.562 (44.599)\n",
      "Epoch: [1][90/167]\tTime 2.726 (2.966)\tData 0.532 (0.545)\tLoss 0.6946 (0.6939)\tAccuracy 37.500 (46.446)\n",
      "Epoch: [1][100/167]\tTime 3.810 (2.965)\tData 0.566 (0.542)\tLoss 0.6872 (0.6933)\tAccuracy 68.750 (47.277)\n",
      "Epoch: [1][110/167]\tTime 2.249 (2.939)\tData 0.457 (0.540)\tLoss 0.7117 (0.6933)\tAccuracy 45.312 (47.128)\n",
      "Epoch: [1][120/167]\tTime 4.223 (2.913)\tData 0.695 (0.535)\tLoss 0.7016 (0.6946)\tAccuracy 23.438 (46.358)\n",
      "Epoch: [1][130/167]\tTime 2.236 (2.903)\tData 0.523 (0.535)\tLoss 0.7120 (0.6948)\tAccuracy 31.250 (46.028)\n",
      "Epoch: [1][140/167]\tTime 2.870 (2.898)\tData 0.417 (0.534)\tLoss 0.6937 (0.6949)\tAccuracy 34.375 (46.066)\n",
      "Epoch: [1][150/167]\tTime 2.581 (2.902)\tData 0.543 (0.533)\tLoss 0.7219 (0.6953)\tAccuracy 23.438 (45.530)\n",
      "Epoch: [1][160/167]\tTime 3.204 (2.933)\tData 0.657 (0.536)\tLoss 0.6861 (0.6954)\tAccuracy 73.438 (45.672)\n",
      "Test: [0/43]\tTime 0.636 (0.636)\tLoss 0.6848 (0.6848)\tAccuracy 68.750 (68.750)\n",
      "Test: [10/43]\tTime 0.587 (0.573)\tLoss 0.6870 (0.6983)\tAccuracy 68.750 (44.318)\n",
      "Test: [20/43]\tTime 0.438 (0.574)\tLoss 0.6664 (0.6919)\tAccuracy 70.312 (51.637)\n",
      "Test: [30/43]\tTime 0.650 (0.575)\tLoss 0.7141 (0.6951)\tAccuracy 26.562 (48.286)\n",
      "Test: [40/43]\tTime 0.677 (0.572)\tLoss 0.6962 (0.6914)\tAccuracy 26.562 (52.134)\n",
      "Epoch: [2][0/167]\tTime 1.743 (1.743)\tData 0.369 (0.369)\tLoss 0.7132 (0.7132)\tAccuracy 31.250 (31.250)\n",
      "Epoch: [2][10/167]\tTime 4.445 (2.843)\tData 0.701 (0.537)\tLoss 0.7054 (0.6948)\tAccuracy 28.125 (48.438)\n",
      "Epoch: [2][20/167]\tTime 3.134 (3.041)\tData 0.675 (0.590)\tLoss 0.6581 (0.6904)\tAccuracy 76.562 (54.464)\n",
      "Epoch: [2][30/167]\tTime 2.385 (2.983)\tData 0.509 (0.589)\tLoss 0.6913 (0.6997)\tAccuracy 65.625 (53.730)\n",
      "Epoch: [2][40/167]\tTime 2.840 (3.019)\tData 0.590 (0.587)\tLoss 0.7023 (0.6997)\tAccuracy 28.125 (50.305)\n",
      "Epoch: [2][50/167]\tTime 3.562 (3.071)\tData 0.523 (0.585)\tLoss 0.6460 (0.6983)\tAccuracy 85.938 (50.705)\n",
      "Epoch: [2][60/167]\tTime 2.204 (3.121)\tData 0.445 (0.587)\tLoss 0.7092 (0.6977)\tAccuracy 25.000 (50.359)\n",
      "Epoch: [2][70/167]\tTime 2.178 (3.136)\tData 0.468 (0.586)\tLoss 0.6911 (0.6968)\tAccuracy 73.438 (50.946)\n",
      "Epoch: [2][80/167]\tTime 2.331 (3.045)\tData 0.504 (0.573)\tLoss 0.6926 (0.6961)\tAccuracy 67.188 (51.042)\n",
      "Epoch: [2][90/167]\tTime 2.635 (3.010)\tData 0.509 (0.570)\tLoss 0.6803 (0.6953)\tAccuracy 78.125 (51.391)\n",
      "Epoch: [2][100/167]\tTime 3.108 (2.984)\tData 0.499 (0.564)\tLoss 0.7092 (0.6952)\tAccuracy 25.000 (51.593)\n",
      "Epoch: [2][110/167]\tTime 2.795 (2.979)\tData 0.566 (0.565)\tLoss 0.6982 (0.6946)\tAccuracy 43.750 (52.534)\n",
      "Epoch: [2][120/167]\tTime 2.528 (2.968)\tData 0.501 (0.564)\tLoss 0.7018 (0.6945)\tAccuracy 39.062 (51.937)\n",
      "Epoch: [2][130/167]\tTime 3.565 (2.949)\tData 0.558 (0.560)\tLoss 0.7190 (0.6944)\tAccuracy 26.562 (52.314)\n",
      "Epoch: [2][140/167]\tTime 3.229 (2.972)\tData 0.661 (0.563)\tLoss 0.6839 (0.6949)\tAccuracy 75.000 (51.463)\n",
      "Epoch: [2][150/167]\tTime 2.326 (2.954)\tData 0.506 (0.562)\tLoss 0.7100 (0.6960)\tAccuracy 28.125 (50.352)\n",
      "Epoch: [2][160/167]\tTime 2.315 (2.931)\tData 0.410 (0.559)\tLoss 0.6898 (0.6961)\tAccuracy 59.375 (50.291)\n",
      "Test: [0/43]\tTime 0.646 (0.646)\tLoss 0.6732 (0.6732)\tAccuracy 68.750 (68.750)\n",
      "Test: [10/43]\tTime 0.610 (0.592)\tLoss 0.7035 (0.6954)\tAccuracy 31.250 (50.852)\n",
      "Test: [20/43]\tTime 0.468 (0.585)\tLoss 0.6870 (0.6927)\tAccuracy 70.312 (51.042)\n",
      "Test: [30/43]\tTime 0.639 (0.586)\tLoss 0.6987 (0.6925)\tAccuracy 26.562 (51.109)\n",
      "Test: [40/43]\tTime 0.696 (0.583)\tLoss 0.6653 (0.6949)\tAccuracy 73.438 (49.390)\n",
      "Epoch: [3][0/167]\tTime 3.210 (3.210)\tData 0.516 (0.516)\tLoss 0.6868 (0.6868)\tAccuracy 82.812 (82.812)\n",
      "Epoch: [3][10/167]\tTime 2.631 (2.839)\tData 0.500 (0.567)\tLoss 0.7170 (0.6986)\tAccuracy 26.562 (44.886)\n",
      "Epoch: [3][20/167]\tTime 2.695 (2.950)\tData 0.413 (0.563)\tLoss 0.6935 (0.6969)\tAccuracy 40.625 (46.801)\n",
      "Epoch: [3][30/167]\tTime 2.349 (2.930)\tData 0.506 (0.567)\tLoss 0.6970 (0.6951)\tAccuracy 34.375 (48.387)\n",
      "Epoch: [3][40/167]\tTime 2.113 (2.964)\tData 0.445 (0.570)\tLoss 0.6690 (0.6951)\tAccuracy 76.562 (49.581)\n",
      "Epoch: [3][50/167]\tTime 2.297 (2.892)\tData 0.410 (0.560)\tLoss 0.7140 (0.6953)\tAccuracy 29.688 (49.112)\n",
      "Epoch: [3][60/167]\tTime 2.164 (2.920)\tData 0.404 (0.556)\tLoss 0.6803 (0.6955)\tAccuracy 62.500 (49.488)\n",
      "Epoch: [3][70/167]\tTime 2.519 (2.885)\tData 0.547 (0.549)\tLoss 0.6934 (0.6953)\tAccuracy 46.875 (49.340)\n",
      "Epoch: [3][80/167]\tTime 1.886 (2.846)\tData 0.379 (0.545)\tLoss 0.6903 (0.6953)\tAccuracy 76.562 (49.730)\n",
      "Epoch: [3][90/167]\tTime 2.347 (2.830)\tData 0.420 (0.541)\tLoss 0.7032 (0.6955)\tAccuracy 37.500 (48.850)\n",
      "Epoch: [3][100/167]\tTime 2.487 (2.830)\tData 0.539 (0.544)\tLoss 0.7126 (0.6955)\tAccuracy 35.938 (49.165)\n",
      "Epoch: [3][110/167]\tTime 4.108 (2.829)\tData 0.557 (0.541)\tLoss 0.7066 (0.6963)\tAccuracy 25.000 (48.212)\n",
      "Epoch: [3][120/167]\tTime 3.818 (2.843)\tData 0.565 (0.546)\tLoss 0.6980 (0.6960)\tAccuracy 29.688 (48.425)\n",
      "Epoch: [3][130/167]\tTime 3.251 (2.876)\tData 0.542 (0.550)\tLoss 0.6994 (0.6961)\tAccuracy 35.938 (47.734)\n",
      "Epoch: [3][140/167]\tTime 2.492 (2.889)\tData 0.533 (0.550)\tLoss 0.6811 (0.6959)\tAccuracy 73.438 (47.806)\n",
      "Epoch: [3][150/167]\tTime 4.255 (2.890)\tData 0.662 (0.549)\tLoss 0.6819 (0.6956)\tAccuracy 76.562 (48.313)\n",
      "Epoch: [3][160/167]\tTime 3.118 (2.879)\tData 0.648 (0.548)\tLoss 0.7030 (0.6955)\tAccuracy 21.875 (48.108)\n",
      "Test: [0/43]\tTime 0.663 (0.663)\tLoss 0.6797 (0.6797)\tAccuracy 68.750 (68.750)\n",
      "Test: [10/43]\tTime 0.588 (0.581)\tLoss 0.6818 (0.6996)\tAccuracy 68.750 (42.045)\n",
      "Test: [20/43]\tTime 0.426 (0.567)\tLoss 0.7087 (0.6968)\tAccuracy 29.688 (47.396)\n",
      "Test: [30/43]\tTime 0.607 (0.563)\tLoss 0.6891 (0.6952)\tAccuracy 73.438 (51.159)\n",
      "Test: [40/43]\tTime 0.681 (0.565)\tLoss 0.7183 (0.6965)\tAccuracy 26.562 (48.742)\n",
      "Epoch: [4][0/167]\tTime 2.157 (2.157)\tData 0.462 (0.462)\tLoss 0.6964 (0.6964)\tAccuracy 23.438 (23.438)\n",
      "Epoch: [4][10/167]\tTime 2.471 (2.547)\tData 0.486 (0.493)\tLoss 0.6948 (0.6962)\tAccuracy 31.250 (49.716)\n",
      "Epoch: [4][20/167]\tTime 3.309 (2.577)\tData 0.528 (0.494)\tLoss 0.6899 (0.6979)\tAccuracy 78.125 (47.247)\n",
      "Epoch: [4][30/167]\tTime 2.831 (2.692)\tData 0.461 (0.503)\tLoss 0.6735 (0.6952)\tAccuracy 78.125 (48.639)\n",
      "Epoch: [4][40/167]\tTime 2.428 (2.735)\tData 0.503 (0.511)\tLoss 0.6961 (0.6945)\tAccuracy 34.375 (48.209)\n",
      "Epoch: [4][50/167]\tTime 2.660 (2.801)\tData 0.529 (0.526)\tLoss 0.6946 (0.6939)\tAccuracy 26.562 (47.917)\n",
      "Epoch: [4][60/167]\tTime 3.197 (2.758)\tData 0.628 (0.517)\tLoss 0.7229 (0.6942)\tAccuracy 28.125 (47.720)\n",
      "Epoch: [4][70/167]\tTime 3.482 (2.774)\tData 0.536 (0.516)\tLoss 0.6856 (0.6929)\tAccuracy 64.062 (49.340)\n",
      "Epoch: [4][80/167]\tTime 3.227 (2.813)\tData 0.638 (0.522)\tLoss 0.7126 (0.6932)\tAccuracy 25.000 (49.595)\n",
      "Epoch: [4][90/167]\tTime 2.193 (2.763)\tData 0.396 (0.517)\tLoss 0.6778 (0.6935)\tAccuracy 82.812 (49.794)\n",
      "Epoch: [4][100/167]\tTime 3.108 (2.759)\tData 0.517 (0.515)\tLoss 0.6993 (0.6930)\tAccuracy 34.375 (50.124)\n",
      "Epoch: [4][110/167]\tTime 3.204 (2.763)\tData 0.673 (0.518)\tLoss 0.6922 (0.6924)\tAccuracy 62.500 (50.915)\n",
      "Epoch: [4][120/167]\tTime 3.391 (2.753)\tData 0.652 (0.519)\tLoss 0.6884 (0.6921)\tAccuracy 62.500 (51.188)\n",
      "Epoch: [4][130/167]\tTime 2.165 (2.784)\tData 0.407 (0.521)\tLoss 0.7193 (0.6929)\tAccuracy 18.750 (50.751)\n",
      "Epoch: [4][140/167]\tTime 2.209 (2.773)\tData 0.486 (0.521)\tLoss 0.6872 (0.6927)\tAccuracy 64.062 (51.097)\n",
      "Epoch: [4][150/167]\tTime 1.925 (2.770)\tData 0.398 (0.519)\tLoss 0.7204 (0.6929)\tAccuracy 29.688 (50.942)\n",
      "Epoch: [4][160/167]\tTime 2.892 (2.790)\tData 0.534 (0.520)\tLoss 0.6856 (0.6931)\tAccuracy 76.562 (51.029)\n",
      "Test: [0/43]\tTime 0.627 (0.627)\tLoss 0.6922 (0.6922)\tAccuracy 67.188 (67.188)\n",
      "Test: [10/43]\tTime 0.573 (0.564)\tLoss 0.7316 (0.6924)\tAccuracy 31.250 (57.812)\n",
      "Test: [20/43]\tTime 0.453 (0.555)\tLoss 0.7072 (0.6921)\tAccuracy 29.688 (54.241)\n",
      "Test: [30/43]\tTime 0.642 (16.724)\tLoss 0.6769 (0.6914)\tAccuracy 73.438 (52.671)\n",
      "Test: [40/43]\tTime 0.674 (12.787)\tLoss 0.6948 (0.6933)\tAccuracy 26.562 (49.200)\n",
      "Epoch: [5][0/167]\tTime 12.587 (12.587)\tData 0.474 (0.474)\tLoss 0.6917 (0.6917)\tAccuracy 59.375 (59.375)\n",
      "Epoch: [5][10/167]\tTime 2.167 (53.886)\tData 0.420 (1.968)\tLoss 0.6804 (0.6977)\tAccuracy 75.000 (49.858)\n",
      "Epoch: [5][20/167]\tTime 3.015 (29.871)\tData 0.651 (1.356)\tLoss 0.7112 (0.6996)\tAccuracy 32.812 (45.461)\n",
      "Epoch: [5][30/167]\tTime 2.271 (21.243)\tData 0.529 (1.119)\tLoss 0.6708 (0.6968)\tAccuracy 70.312 (47.933)\n",
      "Epoch: [5][40/167]\tTime 2.706 (16.769)\tData 0.567 (0.985)\tLoss 0.6965 (0.6967)\tAccuracy 46.875 (48.780)\n",
      "Epoch: [5][50/167]\tTime 3.286 (14.162)\tData 0.505 (0.909)\tLoss 0.7023 (0.6956)\tAccuracy 31.250 (49.142)\n",
      "Epoch: [5][60/167]\tTime 4.559 (12.399)\tData 0.758 (0.856)\tLoss 0.6751 (0.6953)\tAccuracy 75.000 (49.616)\n",
      "Epoch: [5][70/167]\tTime 2.305 (11.048)\tData 0.504 (0.812)\tLoss 0.6869 (0.6946)\tAccuracy 68.750 (50.088)\n",
      "Epoch: [5][80/167]\tTime 1.754 (10.035)\tData 0.418 (0.779)\tLoss 0.6929 (0.6939)\tAccuracy 56.250 (50.405)\n",
      "Epoch: [5][90/167]\tTime 2.153 (9.255)\tData 0.456 (0.755)\tLoss 0.7080 (0.6939)\tAccuracy 23.438 (50.859)\n",
      "Epoch: [5][100/167]\tTime 1.623 (8.661)\tData 0.359 (0.737)\tLoss 0.6819 (0.6936)\tAccuracy 65.625 (51.717)\n",
      "Epoch: [5][110/167]\tTime 2.156 (8.131)\tData 0.464 (0.719)\tLoss 0.6867 (0.6937)\tAccuracy 78.125 (51.689)\n",
      "Epoch: [5][120/167]\tTime 2.428 (7.672)\tData 0.507 (0.701)\tLoss 0.6994 (0.6927)\tAccuracy 35.938 (52.454)\n",
      "Epoch: [5][130/167]\tTime 2.558 (7.319)\tData 0.564 (0.691)\tLoss 0.7423 (0.6935)\tAccuracy 32.812 (51.324)\n",
      "Epoch: [5][140/167]\tTime 2.188 (6.995)\tData 0.445 (0.680)\tLoss 0.7128 (0.6937)\tAccuracy 31.250 (51.031)\n",
      "Epoch: [5][150/167]\tTime 3.094 (6.718)\tData 0.623 (0.672)\tLoss 0.6542 (0.6938)\tAccuracy 76.562 (50.414)\n",
      "Epoch: [5][160/167]\tTime 2.500 (6.490)\tData 0.491 (0.663)\tLoss 0.7016 (0.6936)\tAccuracy 40.625 (51.174)\n",
      "Test: [0/43]\tTime 0.651 (0.651)\tLoss 0.7004 (0.7004)\tAccuracy 32.812 (32.812)\n",
      "Test: [10/43]\tTime 0.608 (0.592)\tLoss 0.6737 (0.6957)\tAccuracy 68.750 (43.892)\n",
      "Test: [20/43]\tTime 0.449 (0.585)\tLoss 0.6846 (0.6971)\tAccuracy 70.312 (43.378)\n",
      "Test: [30/43]\tTime 0.645 (0.586)\tLoss 0.6810 (0.6945)\tAccuracy 73.438 (49.496)\n",
      "Test: [40/43]\tTime 0.713 (0.586)\tLoss 0.6780 (0.6968)\tAccuracy 73.438 (47.561)\n",
      "Epoch: [6][0/167]\tTime 1.926 (1.926)\tData 0.351 (0.351)\tLoss 0.7412 (0.7412)\tAccuracy 18.750 (18.750)\n",
      "Epoch: [6][10/167]\tTime 2.999 (2.916)\tData 0.603 (0.545)\tLoss 0.6827 (0.6930)\tAccuracy 65.625 (56.392)\n",
      "Epoch: [6][20/167]\tTime 2.517 (2.888)\tData 0.532 (0.555)\tLoss 0.7175 (0.6944)\tAccuracy 31.250 (49.182)\n",
      "Epoch: [6][30/167]\tTime 3.162 (2.923)\tData 0.510 (0.559)\tLoss 0.6443 (0.6905)\tAccuracy 75.000 (51.915)\n",
      "Epoch: [6][40/167]\tTime 3.487 (2.897)\tData 0.572 (0.559)\tLoss 0.5983 (0.6790)\tAccuracy 68.750 (55.183)\n",
      "Epoch: [6][50/167]\tTime 1.678 (2.894)\tData 0.357 (0.566)\tLoss 0.6427 (0.6985)\tAccuracy 84.375 (53.278)\n",
      "Epoch: [6][60/167]\tTime 3.913 (2.874)\tData 0.632 (0.566)\tLoss 0.7031 (0.6977)\tAccuracy 34.375 (52.254)\n",
      "Epoch: [6][70/167]\tTime 2.571 (2.835)\tData 0.519 (0.559)\tLoss 0.6908 (0.6985)\tAccuracy 60.938 (50.704)\n",
      "Epoch: [6][80/167]\tTime 3.473 (2.878)\tData 0.692 (0.563)\tLoss 0.6848 (0.6980)\tAccuracy 70.312 (50.463)\n",
      "Epoch: [6][90/167]\tTime 3.258 (2.928)\tData 0.703 (0.570)\tLoss 0.7019 (0.6972)\tAccuracy 29.688 (50.927)\n",
      "Epoch: [6][100/167]\tTime 4.911 (2.946)\tData 0.748 (0.569)\tLoss 0.7289 (0.6977)\tAccuracy 28.125 (49.861)\n",
      "Epoch: [6][110/167]\tTime 3.188 (2.945)\tData 0.676 (0.567)\tLoss 0.6918 (0.6964)\tAccuracy 60.938 (51.267)\n",
      "Epoch: [6][120/167]\tTime 1.893 (2.932)\tData 0.410 (0.562)\tLoss 0.6670 (0.6959)\tAccuracy 71.875 (51.588)\n",
      "Epoch: [6][130/167]\tTime 3.489 (2.936)\tData 0.700 (0.560)\tLoss 0.6997 (0.6959)\tAccuracy 28.125 (50.656)\n",
      "Epoch: [6][140/167]\tTime 2.315 (2.928)\tData 0.469 (0.560)\tLoss 0.6743 (0.6952)\tAccuracy 67.188 (50.754)\n",
      "Epoch: [6][150/167]\tTime 4.237 (2.906)\tData 0.672 (0.558)\tLoss 0.7106 (0.6953)\tAccuracy 31.250 (50.797)\n",
      "Epoch: [6][160/167]\tTime 2.183 (2.928)\tData 0.488 (0.562)\tLoss 0.7009 (0.6952)\tAccuracy 29.688 (50.631)\n",
      "Test: [0/43]\tTime 0.657 (0.657)\tLoss 0.6672 (0.6672)\tAccuracy 68.750 (68.750)\n",
      "Test: [10/43]\tTime 0.607 (0.597)\tLoss 0.7138 (0.6927)\tAccuracy 31.250 (50.142)\n",
      "Test: [20/43]\tTime 0.507 (0.595)\tLoss 0.7032 (0.6956)\tAccuracy 29.688 (45.908)\n",
      "Test: [30/43]\tTime 0.904 (0.608)\tLoss 0.6809 (0.6930)\tAccuracy 73.438 (47.026)\n",
      "Test: [40/43]\tTime 0.694 (0.634)\tLoss 0.7023 (0.6929)\tAccuracy 26.562 (48.742)\n",
      "Epoch: [7][0/167]\tTime 2.586 (2.586)\tData 0.480 (0.480)\tLoss 0.6807 (0.6807)\tAccuracy 70.312 (70.312)\n",
      "Epoch: [7][10/167]\tTime 3.440 (3.520)\tData 0.557 (0.642)\tLoss 0.6683 (0.6850)\tAccuracy 78.125 (60.369)\n",
      "Epoch: [7][20/167]\tTime 2.592 (3.453)\tData 0.519 (0.657)\tLoss 0.7205 (0.6928)\tAccuracy 23.438 (50.818)\n",
      "Epoch: [7][30/167]\tTime 3.802 (3.348)\tData 0.609 (0.644)\tLoss 0.6853 (0.6921)\tAccuracy 70.312 (53.629)\n",
      "Epoch: [7][40/167]\tTime 4.429 (3.360)\tData 0.694 (0.636)\tLoss 0.6745 (0.6947)\tAccuracy 78.125 (51.982)\n",
      "Epoch: [7][50/167]\tTime 2.482 (3.269)\tData 0.509 (0.621)\tLoss 0.6943 (0.6965)\tAccuracy 39.062 (49.632)\n",
      "Epoch: [7][60/167]\tTime 2.724 (3.212)\tData 0.507 (0.609)\tLoss 0.7161 (0.6962)\tAccuracy 23.438 (49.667)\n",
      "Epoch: [7][70/167]\tTime 2.669 (3.144)\tData 0.560 (0.601)\tLoss 0.6698 (0.6955)\tAccuracy 67.188 (49.538)\n",
      "Epoch: [7][80/167]\tTime 4.053 (3.126)\tData 0.603 (0.591)\tLoss 0.6952 (0.6950)\tAccuracy 35.938 (49.383)\n",
      "Epoch: [7][90/167]\tTime 3.647 (3.118)\tData 0.715 (0.590)\tLoss 0.6917 (0.6948)\tAccuracy 67.188 (49.433)\n",
      "Epoch: [7][100/167]\tTime 2.041 (3.110)\tData 0.421 (0.586)\tLoss 0.7178 (0.6954)\tAccuracy 23.438 (49.056)\n",
      "Epoch: [7][110/167]\tTime 3.906 (3.106)\tData 0.744 (0.582)\tLoss 0.7165 (0.6948)\tAccuracy 26.562 (49.704)\n",
      "Epoch: [7][120/167]\tTime 3.070 (3.097)\tData 0.605 (0.580)\tLoss 0.7050 (0.6950)\tAccuracy 28.125 (49.793)\n",
      "Epoch: [7][130/167]\tTime 1.766 (3.073)\tData 0.455 (0.576)\tLoss 0.7126 (0.6949)\tAccuracy 23.438 (49.857)\n",
      "Epoch: [7][140/167]\tTime 4.496 (3.081)\tData 0.718 (0.575)\tLoss 0.7071 (0.6943)\tAccuracy 28.125 (49.922)\n",
      "Epoch: [7][150/167]\tTime 2.557 (3.107)\tData 0.518 (0.579)\tLoss 0.7227 (0.6951)\tAccuracy 23.438 (49.089)\n",
      "Epoch: [7][160/167]\tTime 3.922 (3.103)\tData 0.590 (0.578)\tLoss 0.6858 (0.6951)\tAccuracy 71.875 (49.321)\n",
      "Test: [0/43]\tTime 0.683 (0.683)\tLoss 0.7136 (0.7136)\tAccuracy 31.250 (31.250)\n",
      "Test: [10/43]\tTime 0.746 (0.654)\tLoss 0.6933 (0.6958)\tAccuracy 42.188 (52.557)\n",
      "Test: [20/43]\tTime 0.457 (0.642)\tLoss 0.6854 (0.6954)\tAccuracy 70.312 (51.488)\n",
      "Test: [30/43]\tTime 0.676 (0.632)\tLoss 0.6657 (0.6928)\tAccuracy 73.438 (52.067)\n",
      "Test: [40/43]\tTime 0.960 (0.635)\tLoss 0.7109 (0.6940)\tAccuracy 26.562 (49.848)\n",
      "Epoch: [8][0/167]\tTime 3.258 (3.258)\tData 0.742 (0.742)\tLoss 0.6980 (0.6980)\tAccuracy 37.500 (37.500)\n",
      "Epoch: [8][10/167]\tTime 4.762 (3.321)\tData 0.637 (0.576)\tLoss 0.6900 (0.6938)\tAccuracy 65.625 (49.716)\n",
      "Epoch: [8][20/167]\tTime 2.563 (3.147)\tData 0.517 (0.562)\tLoss 0.6997 (0.6936)\tAccuracy 32.812 (54.762)\n",
      "Epoch: [8][30/167]\tTime 2.481 (3.174)\tData 0.565 (0.581)\tLoss 0.7056 (0.6916)\tAccuracy 31.250 (55.494)\n",
      "Epoch: [8][40/167]\tTime 2.128 (3.084)\tData 0.451 (0.569)\tLoss 0.7006 (0.6939)\tAccuracy 26.562 (50.229)\n",
      "Epoch: [8][50/167]\tTime 3.428 (2.997)\tData 0.523 (0.558)\tLoss 0.6909 (0.6944)\tAccuracy 71.875 (49.112)\n",
      "Epoch: [8][60/167]\tTime 1.983 (2.984)\tData 0.414 (0.553)\tLoss 0.6829 (0.6945)\tAccuracy 64.062 (49.898)\n",
      "Epoch: [8][70/167]\tTime 3.347 (2.981)\tData 0.533 (0.547)\tLoss 0.6878 (0.6950)\tAccuracy 75.000 (48.680)\n",
      "Epoch: [8][80/167]\tTime 4.540 (2.965)\tData 0.649 (0.544)\tLoss 0.6917 (0.6952)\tAccuracy 70.312 (48.978)\n",
      "Epoch: [8][90/167]\tTime 2.241 (2.970)\tData 0.477 (0.546)\tLoss 0.7068 (0.6954)\tAccuracy 21.875 (48.901)\n",
      "Epoch: [8][100/167]\tTime 3.087 (2.973)\tData 0.590 (0.546)\tLoss 0.7016 (0.6956)\tAccuracy 28.125 (48.175)\n",
      "Epoch: [8][110/167]\tTime 2.598 (2.958)\tData 0.525 (0.546)\tLoss 0.7005 (0.6951)\tAccuracy 28.125 (48.240)\n",
      "Epoch: [8][120/167]\tTime 2.686 (2.990)\tData 0.503 (0.550)\tLoss 0.6785 (0.6947)\tAccuracy 71.875 (49.174)\n",
      "Epoch: [8][130/167]\tTime 2.744 (2.990)\tData 0.565 (0.551)\tLoss 0.7030 (0.6951)\tAccuracy 25.000 (48.748)\n",
      "Epoch: [8][140/167]\tTime 3.518 (2.980)\tData 0.717 (0.551)\tLoss 0.6866 (0.6950)\tAccuracy 60.938 (48.559)\n",
      "Epoch: [8][150/167]\tTime 3.893 (3.000)\tData 0.647 (0.552)\tLoss 0.6935 (0.6951)\tAccuracy 37.500 (49.131)\n",
      "Epoch: [8][160/167]\tTime 2.270 (3.032)\tData 0.488 (0.554)\tLoss 0.6549 (0.6949)\tAccuracy 76.562 (49.010)\n",
      "Test: [0/43]\tTime 0.612 (0.612)\tLoss 0.7059 (0.7059)\tAccuracy 31.250 (31.250)\n",
      "Test: [10/43]\tTime 0.561 (0.551)\tLoss 0.7006 (0.6952)\tAccuracy 31.250 (48.864)\n",
      "Test: [20/43]\tTime 0.420 (0.543)\tLoss 0.6954 (0.6951)\tAccuracy 29.688 (48.289)\n",
      "Test: [30/43]\tTime 0.601 (0.543)\tLoss 0.7111 (0.6976)\tAccuracy 26.562 (44.909)\n",
      "Test: [40/43]\tTime 0.645 (0.543)\tLoss 0.6952 (0.6983)\tAccuracy 26.562 (44.169)\n",
      "Epoch: [9][0/167]\tTime 1.924 (1.924)\tData 0.420 (0.420)\tLoss 0.6964 (0.6964)\tAccuracy 35.938 (35.938)\n",
      "Epoch: [9][10/167]\tTime 3.778 (3.031)\tData 0.755 (0.570)\tLoss 0.6989 (0.6906)\tAccuracy 29.688 (55.682)\n",
      "Epoch: [9][20/167]\tTime 3.414 (2.950)\tData 0.652 (0.565)\tLoss 0.7029 (0.6917)\tAccuracy 25.000 (52.679)\n",
      "Epoch: [9][30/167]\tTime 2.868 (3.016)\tData 0.577 (0.565)\tLoss 0.6953 (0.6919)\tAccuracy 32.812 (51.159)\n",
      "Epoch: [9][40/167]\tTime 3.043 (3.005)\tData 0.560 (0.555)\tLoss 0.6885 (0.6932)\tAccuracy 73.438 (49.390)\n",
      "Epoch: [9][50/167]\tTime 3.589 (2.955)\tData 0.677 (0.554)\tLoss 0.6856 (0.6910)\tAccuracy 62.500 (51.409)\n",
      "Epoch: [9][60/167]\tTime 3.129 (3.012)\tData 0.579 (0.557)\tLoss 0.7085 (0.6919)\tAccuracy 34.375 (50.128)\n",
      "Epoch: [9][70/167]\tTime 2.730 (3.059)\tData 0.584 (0.562)\tLoss 0.6878 (0.6930)\tAccuracy 67.188 (49.362)\n",
      "Epoch: [9][80/167]\tTime 2.145 (3.089)\tData 0.440 (0.564)\tLoss 0.6970 (0.6927)\tAccuracy 17.188 (49.441)\n",
      "Epoch: [9][90/167]\tTime 2.308 (3.089)\tData 0.404 (0.559)\tLoss 0.6845 (0.6922)\tAccuracy 59.375 (50.412)\n",
      "Epoch: [9][100/167]\tTime 3.060 (3.095)\tData 0.510 (0.556)\tLoss 0.6959 (0.6926)\tAccuracy 23.438 (50.139)\n",
      "Epoch: [9][110/167]\tTime 2.710 (3.101)\tData 0.514 (0.555)\tLoss 0.6696 (0.6919)\tAccuracy 79.688 (51.436)\n",
      "Epoch: [9][120/167]\tTime 4.463 (3.087)\tData 0.666 (0.553)\tLoss 0.6992 (0.6923)\tAccuracy 29.688 (50.581)\n",
      "Epoch: [9][130/167]\tTime 3.364 (3.060)\tData 0.544 (0.552)\tLoss 0.6988 (0.6926)\tAccuracy 15.625 (49.797)\n",
      "Epoch: [9][140/167]\tTime 1.964 (3.020)\tData 0.464 (0.548)\tLoss 0.6928 (0.6923)\tAccuracy 70.312 (50.421)\n",
      "Epoch: [9][150/167]\tTime 4.249 (3.028)\tData 0.702 (0.550)\tLoss 0.6886 (0.6920)\tAccuracy 79.688 (51.387)\n",
      "Epoch: [9][160/167]\tTime 2.104 (3.006)\tData 0.473 (0.547)\tLoss 0.6803 (0.6916)\tAccuracy 76.562 (51.883)\n",
      "Test: [0/43]\tTime 0.606 (0.606)\tLoss 0.7099 (0.7099)\tAccuracy 31.250 (31.250)\n",
      "Test: [10/43]\tTime 0.564 (0.546)\tLoss 0.6909 (0.7114)\tAccuracy 68.750 (38.920)\n",
      "Test: [20/43]\tTime 0.419 (0.541)\tLoss 0.6871 (0.7047)\tAccuracy 70.312 (41.518)\n",
      "Test: [30/43]\tTime 0.602 (0.542)\tLoss 0.6796 (0.6999)\tAccuracy 73.438 (47.379)\n",
      "Test: [40/43]\tTime 0.641 (0.540)\tLoss 0.6797 (0.7003)\tAccuracy 73.438 (47.027)\n"
     ]
    },
    {
     "data": {
      "image/png": "[encoded data removed]",
      "text/plain": [
       "<Figure size 432x288 with 1 Axes>"
      ]
     },
     "metadata": {
      "needs_background": "light"
     },
     "output_type": "display_data"
    },
    {
     "data": {
      "image/png": "[encoded data removed]",
      "text/plain": [
       "<Figure size 432x288 with 1 Axes>"
      ]
     },
     "metadata": {
      "needs_background": "light"
     },
     "output_type": "display_data"
    }
   ],
   "source": [
    "hidden_size = 200\n",
    "num_layers = 2\n",
    "num_classes= 2\n",
    "embedding_dim = 100\n",
    "num_topic = 50\n",
    "bidirectional=True\n",
    "\n",
    "model = Content(num_features, hidden_size, num_layers, num_classes, embedding_dim, num_topic, bidirectional)\n",
    "criterion = nn.CrossEntropyLoss()\n",
    "optimizer = optim.Adam(model.parameters())\n",
    "\n",
    "model.to(device)\n",
    "criterion.to(device)\n",
    "\n",
    "best_val_acc = 0.0\n",
    "train_losses, train_accuracies, train_aucs = [], [], []\n",
    "valid_losses, valid_accuracies, valid_aucs = [], [], []\n",
    "for epoch in range(NUM_EPOCHS):\n",
    "    train_loss, train_accuracy, train_auc = train_RNN(model, device, train_loader, criterion, optimizer, epoch)\n",
    "    valid_loss, valid_accuracy, valid_auc, valid_results = evaluate(model, device, valid_loader, criterion)\n",
    "\n",
    "    train_losses.append(train_loss)\n",
    "    valid_losses.append(valid_loss)\n",
    "\n",
    "    train_accuracies.append(train_accuracy)\n",
    "    valid_accuracies.append(valid_accuracy)\n",
    "    \n",
    "    train_aucs.append(train_auc)\n",
    "    valid_aucs.append(valid_auc)\n",
    "\n",
    "    is_best = valid_accuracy > best_val_acc  # let's keep the model that has the best accuracy, but you can also use another metric.\n",
    "    if is_best:\n",
    "        \n",
    "        best_val_acc = valid_accuracy\n",
    "        torch.save(model, os.path.join(output_path, \"content_10_epochs.pth\"), _use_new_zipfile_serialization=False)\n",
    "plot_learning_curves(train_losses, valid_losses, train_accuracies, valid_accuracies, 'figures', 'content_10_epochs')"
   ]
  },
  {
   "cell_type": "code",
   "execution_count": 15,
   "id": "92fb659b-c5f8-493f-9f98-d3cb8a3fb20f",
   "metadata": {},
   "outputs": [
    {
     "data": {
      "text/plain": [
       "[49.07912046392706,\n",
       " 45.50836309107863,\n",
       " 50.41345611583736,\n",
       " 48.007893253864815,\n",
       " 51.202781436363125,\n",
       " 51.12760759040705,\n",
       " 50.73294493444565,\n",
       " 48.71264799921344,\n",
       " 49.09791392380303,\n",
       " 51.90753617884409]"
      ]
     },
     "execution_count": 15,
     "metadata": {},
     "output_type": "execute_result"
    }
   ],
   "source": [
    "train_accuracies"
   ]
  },
  {
   "cell_type": "code",
   "execution_count": 16,
   "id": "d46376a6-247b-4942-80a8-92d2624b89e5",
   "metadata": {},
   "outputs": [
    {
     "data": {
      "text/plain": [
       "[0.4990935214385501,\n",
       " 0.5000550948820008,\n",
       " 0.50050963321375,\n",
       " 0.5003226831229522,\n",
       " 0.501990900563798,\n",
       " 0.4973433475490191,\n",
       " 0.49892984093605186,\n",
       " 0.5012368015039785,\n",
       " 0.5007280602551539,\n",
       " 0.49945683685995357]"
      ]
     },
     "execution_count": 16,
     "metadata": {},
     "output_type": "execute_result"
    }
   ],
   "source": [
    "train_aucs"
   ]
  },
  {
   "cell_type": "code",
   "execution_count": 17,
   "id": "75624ab6-e0cc-4ddc-8d5d-5d1a21f700ef",
   "metadata": {},
   "outputs": [
    {
     "data": {
      "text/plain": [
       "([51.57163742690059,\n",
       "  52.046783625730995,\n",
       "  48.3187134502924,\n",
       "  49.89035087719298,\n",
       "  49.23245614035088,\n",
       "  48.0628655193842,\n",
       "  48.79385964912281,\n",
       "  48.79385964912281,\n",
       "  44.4078947368421,\n",
       "  48.24561403508772],\n",
       " [0.4994683678894205,\n",
       "  0.5004873294346979,\n",
       "  0.5018746138783073,\n",
       "  0.5015335541651331,\n",
       "  0.5000531632110579,\n",
       "  0.5055612961523643,\n",
       "  0.5024212578229199,\n",
       "  0.501412400481007,\n",
       "  0.5005915906192915,\n",
       "  0.5])"
      ]
     },
     "execution_count": 17,
     "metadata": {},
     "output_type": "execute_result"
    }
   ],
   "source": [
    "valid_accuracies, valid_aucs"
   ]
  },
  {
   "cell_type": "code",
   "execution_count": 18,
   "id": "e2392476-1a8e-4f59-b470-a461416391b3",
   "metadata": {},
   "outputs": [
    {
     "name": "stdout",
     "output_type": "stream",
     "text": [
      "Test: [0/42]\tTime 0.699 (0.699)\tLoss 0.6941 (0.6941)\tAccuracy 43.750 (43.750)\n",
      "Test: [10/42]\tTime 0.583 (0.742)\tLoss 0.6887 (0.6931)\tAccuracy 62.500 (49.290)\n",
      "Test: [20/42]\tTime 0.906 (0.799)\tLoss 0.7054 (0.6944)\tAccuracy 28.125 (44.568)\n",
      "Test: [30/42]\tTime 0.633 (0.820)\tLoss 0.7090 (0.6947)\tAccuracy 29.688 (46.522)\n",
      "Test: [40/42]\tTime 0.884 (0.809)\tLoss 0.6996 (0.6947)\tAccuracy 34.375 (47.523)\n"
     ]
    }
   ],
   "source": [
    "best_model = torch.load(os.path.join(output_path, \"content_10_epochs.pth\"))\n",
    "\n",
    "test_loss, test_accuracy, test_auc, test_results = evaluate(best_model, device, test_loader, criterion)"
   ]
  },
  {
   "cell_type": "code",
   "execution_count": 19,
   "id": "01ab86fb-b7fc-4244-9b23-a585495c8a0b",
   "metadata": {},
   "outputs": [
    {
     "data": {
      "text/plain": [
       "(47.70676691155685, 0.5003041574980801)"
      ]
     },
     "execution_count": 19,
     "metadata": {},
     "output_type": "execute_result"
    }
   ],
   "source": [
    "test_accuracy, test_auc"
   ]
  },
  {
   "cell_type": "code",
   "execution_count": null,
   "id": "886e52d8-1898-430e-95ba-255f7bccdeef",
   "metadata": {},
   "outputs": [],
   "source": []
  }
 ],
 "metadata": {
  "kernelspec": {
   "display_name": "Python 3",
   "language": "python",
   "name": "python3"
  },
  "language_info": {
   "codemirror_mode": {
    "name": "ipython",
    "version": 3
   },
   "file_extension": ".py",
   "mimetype": "text/x-python",
   "name": "python",
   "nbconvert_exporter": "python",
   "pygments_lexer": "ipython3",
   "version": "3.6.13"
  }
 },
 "nbformat": 4,
 "nbformat_minor": 5
}
