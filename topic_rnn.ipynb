{
 "cells": [
  {
   "cell_type": "code",
   "execution_count": 1,
   "id": "60b932e0-e31a-4510-b167-43b2b6351446",
   "metadata": {},
   "outputs": [],
   "source": [
    "import pandas as pd\n",
    "import pickle\n",
    "from gensim.test.utils import common_texts\n",
    "from gensim.corpora.dictionary import Dictionary\n",
    "from gensim.models import LdaModel"
   ]
  },
  {
   "cell_type": "code",
   "execution_count": 31,
   "id": "3ba4c725",
   "metadata": {},
   "outputs": [],
   "source": [
    "input_path = 'data/cleansed_data.pkl'\n",
    "df = pickle.load(open(input_path, 'rb'))\n",
    "df = df.sort_values(by=['PID', 'DAY_ID']).groupby(\"PID\").last().reset_index()\n",
    "train_data = df[df['PID'] <= 2000]\n",
    "test_data = df[(df['PID'] > 2000) & (df['PID'] <= 2500)]\n",
    "X_train = train_data['feature_id'].tolist()\n",
    "X_test = test_data['feature_id'].tolist()\n",
    "\n",
    "X_train_patient = [[str(item) for sublist in l for item in sublist] for l in X_train]\n",
    "X_test_patient = [[str(item) for sublist in l for item in sublist] for l in X_test]"
   ]
  },
  {
   "cell_type": "code",
   "execution_count": 43,
   "id": "987f0010",
   "metadata": {},
   "outputs": [],
   "source": [
    "tdict = Dictionary(X_train_patient)\n",
    "corpus = [tdict.doc2bow(text) for text in X_train_patient]\n",
    "# Train the model on the corpus.\n",
    "lda = LdaModel(corpus, num_topics=10)"
   ]
  },
  {
   "cell_type": "code",
   "execution_count": 47,
   "id": "dec9aa8c",
   "metadata": {},
   "outputs": [],
   "source": [
    "train_topics = lda[corpus]"
   ]
  },
  {
   "cell_type": "code",
   "execution_count": 55,
   "id": "bfe4ad6e",
   "metadata": {},
   "outputs": [
    {
     "data": {
      "text/plain": [
       "[(0, 0.17637222), (2, 0.24557702), (7, 0.17509468), (9, 0.39942575)]"
      ]
     },
     "execution_count": 55,
     "metadata": {},
     "output_type": "execute_result"
    }
   ],
   "source": [
    "train_topics[0]"
   ]
  },
  {
   "cell_type": "code",
   "execution_count": null,
   "id": "0fa76e62",
   "metadata": {},
   "outputs": [],
   "source": []
  }
 ],
 "metadata": {
  "kernelspec": {
   "display_name": "Python 3 (ipykernel)",
   "language": "python",
   "name": "python3"
  },
  "language_info": {
   "codemirror_mode": {
    "name": "ipython",
    "version": 3
   },
   "file_extension": ".py",
   "mimetype": "text/x-python",
   "name": "python",
   "nbconvert_exporter": "python",
   "pygments_lexer": "ipython3",
   "version": "3.10.9"
  }
 },
 "nbformat": 4,
 "nbformat_minor": 5
}
