{
 "cells": [
  {
   "cell_type": "code",
   "execution_count": 1,
   "id": "756cd486-b3f6-4ce7-a720-9edbbd60389b",
   "metadata": {},
   "outputs": [],
   "source": [
    "import os\n",
    "import numpy as np\n",
    "import pandas as pd\n",
    "import pickle\n",
    "from scipy import sparse\n",
    "import torch\n",
    "from torch.utils.data import TensorDataset, Dataset, DataLoader\n",
    "import torch.nn as nn\n",
    "import torch.optim as optim\n",
    "from scipy.special import softmax\n",
    "from plots import plot_learning_curves, plot_confusion_matrix\n",
    "from utils import train_RNN, evaluate, VisitSequenceWithLabelDataset, visit_collate_fn\n",
    "\n",
    "from sklearn.metrics import precision_recall_fscore_support, roc_auc_score, accuracy_score, precision_recall_curve\n",
    "from sklearn.cluster import MiniBatchKMeans\n",
    "from sklearn.metrics import average_precision_score as pr_auc\n",
    "from model import RNN\n",
    "from create_dataset import get_seqs_labels, calculate_num_features\n",
    "\n",
    "%load_ext autoreload\n",
    "%autoreload 2"
   ]
  },
  {
   "cell_type": "markdown",
   "id": "ba57a56e-a497-48c7-a359-40e9815d6506",
   "metadata": {},
   "source": [
    "# Get Data"
   ]
  },
  {
   "cell_type": "code",
   "execution_count": 2,
   "id": "0551608f-16e9-4ed7-8df3-19a96052e025",
   "metadata": {},
   "outputs": [],
   "source": [
    "file = open('data/train.pkl', 'rb')\n",
    "train_df = pickle.load(file)\n",
    "file = open('data/valid.pkl', 'rb')\n",
    "valid_df = pickle.load(file)\n",
    "file = open('data/test.pkl', 'rb')\n",
    "test_df = pickle.load(file)"
   ]
  },
  {
   "cell_type": "markdown",
   "id": "a4b18f35-30af-43ec-add3-404ace14a26a",
   "metadata": {},
   "source": [
    "# Create sequence and labels for train, valid, and test set"
   ]
  },
  {
   "cell_type": "code",
   "execution_count": 3,
   "id": "5a8a7d34-992a-469d-a8b8-1445e58f707e",
   "metadata": {},
   "outputs": [],
   "source": [
    "train_seqs, train_labels = get_seqs_labels(train_df)\n",
    "val_seqs, val_labels = get_seqs_labels(valid_df)\n",
    "test_seqs, test_labels = get_seqs_labels(test_df)\n",
    "num_features = calculate_num_features(train_seqs)"
   ]
  },
  {
   "cell_type": "markdown",
   "id": "111e1320-d844-422d-ab92-284d2f8f82c5",
   "metadata": {},
   "source": [
    "# Initialize model hyperparmaters"
   ]
  },
  {
   "cell_type": "code",
   "execution_count": 4,
   "id": "a6e0a483-25e8-4f5b-86e1-c8555e85c5ad",
   "metadata": {},
   "outputs": [],
   "source": [
    "NUM_EPOCHS = 3\n",
    "BATCH_SIZE = 128\n",
    "USE_CUDA = False  # Set 'True' if you want to use GPU\n",
    "NUM_WORKERS = 0\n",
    "output_path = 'model_object/'\n",
    "\n",
    "device = torch.device(\"cuda\" if torch.cuda.is_available() and USE_CUDA else \"cpu\")\n",
    "torch.manual_seed(1)\n",
    "if device.type == \"cuda\":\n",
    "    torch.backends.cudnn.deterministic = True\n",
    "    torch.backends.cudnn.benchmark = False"
   ]
  },
  {
   "cell_type": "code",
   "execution_count": 5,
   "id": "3cd85b50-a30b-4da2-b8b7-a46ca10edf89",
   "metadata": {},
   "outputs": [],
   "source": [
    "train_dataset = VisitSequenceWithLabelDataset(train_seqs, train_labels, num_features)\n",
    "valid_dataset = VisitSequenceWithLabelDataset(val_seqs, val_labels, num_features)\n",
    "test_dataset = VisitSequenceWithLabelDataset(test_seqs, test_labels, num_features)\n",
    "train_loader = DataLoader(dataset=train_dataset, batch_size=BATCH_SIZE, shuffle=True, collate_fn=visit_collate_fn, num_workers=NUM_WORKERS)\n",
    "valid_loader = DataLoader(dataset=valid_dataset, batch_size=BATCH_SIZE, shuffle=False, collate_fn=visit_collate_fn, num_workers=NUM_WORKERS)\n",
    "test_loader = DataLoader(dataset=test_dataset, batch_size=BATCH_SIZE, shuffle=False, collate_fn=visit_collate_fn, num_workers=NUM_WORKERS)"
   ]
  },
  {
   "cell_type": "code",
   "execution_count": 6,
   "id": "fea17885-b537-4017-87fb-c2dc2da25547",
   "metadata": {},
   "outputs": [
    {
     "name": "stderr",
     "output_type": "stream",
     "text": [
      "/Users/jasonzeng/Documents/OMSCS/cse6250/project/CSE6250_Project/utils.py:204: UserWarning: Creating a tensor from a list of numpy.ndarrays is extremely slow. Please consider converting the list to a single numpy.ndarray with numpy.array() before converting to a tensor. (Triggered internally at  ../torch/csrc/utils/tensor_new.cpp:201.)\n",
      "  seqs_tensor = torch.FloatTensor(seqs)\n"
     ]
    },
    {
     "name": "stdout",
     "output_type": "stream",
     "text": [
      "Epoch: [0][0/84]\tTime 7.255 (7.255)\tData 1.350 (1.350)\tLoss 0.6950 (0.6950)\tAccuracy 38.281 (38.281)\n",
      "Epoch: [0][10/84]\tTime 6.734 (6.539)\tData 1.199 (1.163)\tLoss 0.6495 (0.6280)\tAccuracy 64.062 (66.335)\n",
      "Epoch: [0][20/84]\tTime 9.014 (6.898)\tData 1.548 (1.191)\tLoss 0.5862 (0.6081)\tAccuracy 72.656 (69.196)\n",
      "Epoch: [0][30/84]\tTime 5.158 (7.071)\tData 0.984 (1.289)\tLoss 0.5522 (0.6019)\tAccuracy 75.000 (69.733)\n",
      "Epoch: [0][40/84]\tTime 5.454 (6.929)\tData 1.061 (1.254)\tLoss 0.5196 (0.5953)\tAccuracy 76.562 (70.293)\n",
      "Epoch: [0][50/84]\tTime 4.843 (6.682)\tData 0.960 (1.212)\tLoss 0.5769 (0.5886)\tAccuracy 70.312 (70.450)\n",
      "Epoch: [0][60/84]\tTime 6.355 (6.521)\tData 1.203 (1.188)\tLoss 0.5450 (0.5854)\tAccuracy 72.656 (70.415)\n",
      "Epoch: [0][70/84]\tTime 4.669 (6.384)\tData 0.945 (1.166)\tLoss 0.5776 (0.5817)\tAccuracy 68.750 (70.577)\n",
      "Epoch: [0][80/84]\tTime 6.373 (6.312)\tData 0.892 (1.145)\tLoss 0.6189 (0.5809)\tAccuracy 65.625 (70.544)\n",
      "Test: [0/22]\tTime 0.984 (0.984)\tLoss 0.5997 (0.5997)\tAccuracy 71.094 (71.094)\n",
      "Test: [10/22]\tTime 0.970 (1.017)\tLoss 0.5814 (0.5911)\tAccuracy 66.406 (69.318)\n",
      "Test: [20/22]\tTime 1.065 (1.029)\tLoss 0.5066 (0.5675)\tAccuracy 73.438 (70.722)\n",
      "Epoch: [1][0/84]\tTime 7.906 (7.906)\tData 1.276 (1.276)\tLoss 0.5556 (0.5556)\tAccuracy 73.438 (73.438)\n",
      "Epoch: [1][10/84]\tTime 5.408 (6.136)\tData 0.991 (1.080)\tLoss 0.5423 (0.5484)\tAccuracy 69.531 (72.301)\n",
      "Epoch: [1][20/84]\tTime 4.706 (6.408)\tData 0.781 (1.183)\tLoss 0.5355 (0.5548)\tAccuracy 64.844 (71.094)\n",
      "Epoch: [1][30/84]\tTime 5.627 (6.183)\tData 1.030 (1.162)\tLoss 0.4436 (0.5494)\tAccuracy 79.688 (71.724)\n",
      "Epoch: [1][40/84]\tTime 6.328 (6.128)\tData 1.261 (1.142)\tLoss 0.5294 (0.5494)\tAccuracy 77.344 (71.970)\n",
      "Epoch: [1][50/84]\tTime 4.757 (6.085)\tData 0.936 (1.131)\tLoss 0.5696 (0.5538)\tAccuracy 70.312 (71.569)\n",
      "Epoch: [1][60/84]\tTime 6.079 (6.057)\tData 1.166 (1.126)\tLoss 0.6112 (0.5512)\tAccuracy 67.969 (71.721)\n",
      "Epoch: [1][70/84]\tTime 4.866 (6.020)\tData 1.036 (1.127)\tLoss 0.6282 (0.5495)\tAccuracy 64.062 (71.842)\n",
      "Epoch: [1][80/84]\tTime 4.802 (5.966)\tData 0.878 (1.113)\tLoss 0.5662 (0.5527)\tAccuracy 71.875 (71.499)\n",
      "Test: [0/22]\tTime 1.018 (1.018)\tLoss 0.5944 (0.5944)\tAccuracy 67.969 (67.969)\n",
      "Test: [10/22]\tTime 0.996 (1.053)\tLoss 0.5783 (0.5836)\tAccuracy 69.531 (69.460)\n",
      "Test: [20/22]\tTime 1.091 (1.069)\tLoss 0.5168 (0.5643)\tAccuracy 74.219 (71.243)\n",
      "Epoch: [2][0/84]\tTime 6.865 (6.865)\tData 1.285 (1.285)\tLoss 0.5618 (0.5618)\tAccuracy 69.531 (69.531)\n",
      "Epoch: [2][10/84]\tTime 9.654 (6.148)\tData 1.561 (1.139)\tLoss 0.5028 (0.5289)\tAccuracy 75.781 (73.509)\n",
      "Epoch: [2][20/84]\tTime 5.658 (6.422)\tData 1.124 (1.147)\tLoss 0.5376 (0.5420)\tAccuracy 75.000 (72.135)\n",
      "Epoch: [2][30/84]\tTime 6.612 (6.348)\tData 1.196 (1.140)\tLoss 0.5087 (0.5437)\tAccuracy 74.219 (71.547)\n",
      "Epoch: [2][40/84]\tTime 7.024 (6.415)\tData 1.196 (1.165)\tLoss 0.4668 (0.5398)\tAccuracy 77.344 (72.046)\n",
      "Epoch: [2][50/84]\tTime 5.412 (6.432)\tData 1.178 (1.154)\tLoss 0.6234 (0.5401)\tAccuracy 68.750 (72.335)\n",
      "Epoch: [2][60/84]\tTime 4.920 (6.466)\tData 1.099 (1.165)\tLoss 0.5355 (0.5403)\tAccuracy 74.219 (72.477)\n",
      "Epoch: [2][70/84]\tTime 6.969 (6.484)\tData 1.309 (1.171)\tLoss 0.5240 (0.5381)\tAccuracy 71.094 (72.480)\n",
      "Epoch: [2][80/84]\tTime 5.239 (6.392)\tData 0.883 (1.159)\tLoss 0.5626 (0.5369)\tAccuracy 70.312 (72.473)\n",
      "Test: [0/22]\tTime 1.093 (1.093)\tLoss 0.5933 (0.5933)\tAccuracy 67.969 (67.969)\n",
      "Test: [10/22]\tTime 0.986 (1.047)\tLoss 0.5919 (0.6007)\tAccuracy 69.531 (69.957)\n",
      "Test: [20/22]\tTime 1.091 (1.053)\tLoss 0.5238 (0.5790)\tAccuracy 74.219 (71.652)\n"
     ]
    },
    {
     "data": {
      "image/png": "[encoded data removed]",
      "text/plain": [
       "<Figure size 432x288 with 1 Axes>"
      ]
     },
     "metadata": {
      "needs_background": "light"
     },
     "output_type": "display_data"
    },
    {
     "data": {
      "image/png": "[encoded data removed]",
      "text/plain": [
       "<Figure size 432x288 with 1 Axes>"
      ]
     },
     "metadata": {
      "needs_background": "light"
     },
     "output_type": "display_data"
    }
   ],
   "source": [
    "model = RNN(num_features)\n",
    "criterion = nn.CrossEntropyLoss()\n",
    "optimizer = optim.Adam(model.parameters())\n",
    "\n",
    "model.to(device)\n",
    "criterion.to(device)\n",
    "\n",
    "best_val_acc = 0.0\n",
    "train_losses, train_accuracies, train_aucs = [], [], []\n",
    "valid_losses, valid_accuracies, valid_aucs = [], [], []\n",
    "for epoch in range(NUM_EPOCHS):\n",
    "    train_loss, train_accuracy, train_auc = train_RNN(model, device, train_loader, criterion, optimizer, epoch)\n",
    "    valid_loss, valid_accuracy, valid_auc, valid_results = evaluate(model, device, valid_loader, criterion)\n",
    "\n",
    "    train_losses.append(train_loss)\n",
    "    valid_losses.append(valid_loss)\n",
    "\n",
    "    train_accuracies.append(train_accuracy)\n",
    "    valid_accuracies.append(valid_accuracy)\n",
    "    \n",
    "    train_aucs.append(train_auc)\n",
    "    valid_aucs.append(valid_auc)\n",
    "\n",
    "    is_best = valid_accuracy > best_val_acc  # let's keep the model that has the best accuracy, but you can also use another metric.\n",
    "    if is_best:\n",
    "        best_val_acc = valid_accuracy\n",
    "        torch.save(model, os.path.join(output_path, \"RNN.pth\"), _use_new_zipfile_serialization=False)\n",
    "plot_learning_curves(train_losses, valid_losses, train_accuracies, valid_accuracies, 'figures', 'rnn')"
   ]
  },
  {
   "cell_type": "code",
   "execution_count": 7,
   "id": "4b1b7820-883b-4fbb-8502-3b98da537d0f",
   "metadata": {},
   "outputs": [
    {
     "data": {
      "text/plain": [
       "[70.54125164299391, 71.44333772134162, 72.40180417071427]"
      ]
     },
     "execution_count": 7,
     "metadata": {},
     "output_type": "execute_result"
    }
   ],
   "source": [
    "train_accuracies"
   ]
  },
  {
   "cell_type": "code",
   "execution_count": 8,
   "id": "1d600cd9-b7d7-4bde-9bf9-a188b99b418f",
   "metadata": {},
   "outputs": [
    {
     "data": {
      "text/plain": [
       "[0.5052617267222786, 0.5312806833840517, 0.5693765958017415]"
      ]
     },
     "execution_count": 8,
     "metadata": {},
     "output_type": "execute_result"
    }
   ],
   "source": [
    "train_aucs"
   ]
  },
  {
   "cell_type": "code",
   "execution_count": 9,
   "id": "3f860947-afc5-4c57-a899-ff45b3097219",
   "metadata": {},
   "outputs": [
    {
     "data": {
      "text/plain": [
       "[70.90643274853801, 71.4912280255591, 71.85672519081517]"
      ]
     },
     "execution_count": 9,
     "metadata": {},
     "output_type": "execute_result"
    }
   ],
   "source": [
    "valid_accuracies"
   ]
  },
  {
   "cell_type": "code",
   "execution_count": 10,
   "id": "1cc23da1-b409-4627-9c74-031171981256",
   "metadata": {},
   "outputs": [
    {
     "data": {
      "text/plain": [
       "[0.5008490064633058, 0.539541926242323, 0.555252957338534]"
      ]
     },
     "execution_count": 10,
     "metadata": {},
     "output_type": "execute_result"
    }
   ],
   "source": [
    "valid_aucs"
   ]
  },
  {
   "cell_type": "code",
   "execution_count": 11,
   "id": "e994f28d-c86e-4b41-a9d6-4a784efbe20d",
   "metadata": {},
   "outputs": [
    {
     "name": "stdout",
     "output_type": "stream",
     "text": [
      "Test: [0/21]\tTime 0.938 (0.938)\tLoss 0.7766 (0.7766)\tAccuracy 61.719 (61.719)\n",
      "Test: [10/21]\tTime 1.538 (1.227)\tLoss 0.5431 (0.5993)\tAccuracy 67.188 (70.170)\n",
      "Test: [20/21]\tTime 1.002 (1.216)\tLoss 0.8013 (0.5933)\tAccuracy 57.000 (70.752)\n"
     ]
    }
   ],
   "source": [
    "best_model = torch.load(os.path.join(output_path, \"RNN.pth\"))\n",
    "# TODO: For your report, try to make plots similar to those in the previous task.\n",
    "\n",
    "# TODO: You may use the validation set in case you cannot use the test set.\n",
    "test_loss, test_accuracy, test_auc, test_results = evaluate(best_model, device, test_loader, criterion)"
   ]
  },
  {
   "cell_type": "code",
   "execution_count": 12,
   "id": "ad614b32-d7cb-441a-b6c5-6d5a477db3fe",
   "metadata": {},
   "outputs": [
    {
     "data": {
      "text/plain": [
       "0.5595246908468378"
      ]
     },
     "execution_count": 12,
     "metadata": {},
     "output_type": "execute_result"
    }
   ],
   "source": [
    "test_auc"
   ]
  },
  {
   "cell_type": "code",
   "execution_count": 13,
   "id": "e3195fd8-6008-4d5a-a459-46c95f1793f1",
   "metadata": {},
   "outputs": [
    {
     "data": {
      "text/plain": [
       "70.75187969924812"
      ]
     },
     "execution_count": 13,
     "metadata": {},
     "output_type": "execute_result"
    }
   ],
   "source": [
    "test_accuracy"
   ]
  },
  {
   "cell_type": "code",
   "execution_count": null,
   "id": "ffd52f67-f375-42a3-a10c-51b6fa2fa6a0",
   "metadata": {},
   "outputs": [],
   "source": []
  }
 ],
 "metadata": {
  "kernelspec": {
   "display_name": "Python 3",
   "language": "python",
   "name": "python3"
  },
  "language_info": {
   "codemirror_mode": {
    "name": "ipython",
    "version": 3
   },
   "file_extension": ".py",
   "mimetype": "text/x-python",
   "name": "python",
   "nbconvert_exporter": "python",
   "pygments_lexer": "ipython3",
   "version": "3.6.13"
  }
 },
 "nbformat": 4,
 "nbformat_minor": 5
}
