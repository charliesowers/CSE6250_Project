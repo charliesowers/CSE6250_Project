{
 "cells": [
  {
   "cell_type": "code",
   "execution_count": 12,
   "id": "60b932e0-e31a-4510-b167-43b2b6351446",
   "metadata": {},
   "outputs": [],
   "source": [
    "import pandas as pd\n",
    "import pickle\n",
    "from sklearn.linear_model import LogisticRegression\n",
    "from sklearn.metrics import precision_recall_fscore_support, roc_auc_score, accuracy_score, precision_recall_curve\n"
   ]
  },
  {
   "cell_type": "code",
   "execution_count": 41,
   "id": "6b938681-140b-4406-8c7c-5ddf5acc0aa4",
   "metadata": {},
   "outputs": [
    {
     "name": "stdout",
     "output_type": "stream",
     "text": [
      "Accuracy: 0.7050438596491229\n",
      "AUC: 0.5345112803399789\n"
     ]
    }
   ],
   "source": [
    "embedding_data = pickle.load(open('data/data_with_embedding.pkl', 'rb'))\n",
    "\n",
    "# # Split the data into training and testing sets\n",
    "train_data = embedding_data[embedding_data['PID'] <= 2000]\n",
    "test_data = embedding_data[(embedding_data['PID'] > 2000) & (embedding_data['PID'] <= 2500)]\n",
    "X_train = train_data['embedding'].tolist()\n",
    "y_train = train_data['readmission_label'].tolist()\n",
    "X_test = test_data['embedding'].tolist()\n",
    "y_test = test_data['readmission_label'].tolist()\n",
    "\n",
    "# Train the logistic regression model on the training set\n",
    "lr = LogisticRegression(random_state=42, max_iter=1000)\n",
    "lr.fit(X_train, y_train)\n",
    "\n",
    "# Evaluate the model on the testing set\n",
    "score = lr.score(X_test, y_test)\n",
    "y_pred = lr.predict(X_test)\n",
    "print(\"Accuracy:\", score)\n",
    "auc = roc_auc_score(y_pred, y_test)\n",
    "print(\"AUC:\", auc)"
   ]
  },
  {
   "cell_type": "code",
   "execution_count": null,
   "id": "40df50d5-aed6-40fa-be93-bc9fa7ffcdf7",
   "metadata": {},
   "outputs": [],
   "source": []
  }
 ],
 "metadata": {
  "kernelspec": {
   "display_name": "Python 3",
   "language": "python",
   "name": "python3"
  },
  "language_info": {
   "codemirror_mode": {
    "name": "ipython",
    "version": 3
   },
   "file_extension": ".py",
   "mimetype": "text/x-python",
   "name": "python",
   "nbconvert_exporter": "python",
   "pygments_lexer": "ipython3",
   "version": "3.6.13"
  }
 },
 "nbformat": 4,
 "nbformat_minor": 5
}
